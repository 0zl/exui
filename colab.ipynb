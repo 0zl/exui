{
 "cells": [
  {
   "cell_type": "markdown",
   "metadata": {},
   "source": [
    "## Welcome to the ExlV2 webui Colab Notebook\n",
    "It's really easy to get started. Just press the two **Play** buttons below, and then connect to the **Cloudflare URL** shown at the end.\n",
    "\n",
    "\n",
    "**Keep this page open and occationally check for captcha's so that your AI is not shut down**"
   ]
  },
  {
   "cell_type": "code",
   "execution_count": null,
   "metadata": {
    "vscode": {
     "languageId": "plaintext"
    }
   },
   "outputs": [],
   "source": [
    "!git clone https://github.com/turboderp/exui\n",
    "!cd exui && pip install -r requirements.txt\n",
    "!git clone https://github.com/turboderp/exllamav2\n",
    "!cd exllamav2 && python setup.py install --user "
   ]
  },
  {
   "cell_type": "code",
   "execution_count": null,
   "metadata": {
    "vscode": {
     "languageId": "plaintext"
    }
   },
   "outputs": [],
   "source": [
    "Model = \"https://huggingface.co/turboderp/Llama2-7B-exl2/resolve/2.5bpw/output.safetensors\" #@param [\"\"]{allow-input: true}\n",
    "%cd exui\n",
    "!wget $Model\n"
   ]
  },
  {
   "cell_type": "code",
   "execution_count": null,
   "metadata": {
    "vscode": {
     "languageId": "plaintext"
    }
   },
   "outputs": [],
   "source": [
    "!wget -c https://github.com/cloudflare/cloudflared/releases/latest/download/cloudflared-linux-amd64\n",
    "!chmod +x cloudflared-linux-amd64\n",
    "!nohup ./cloudflared-linux-amd64 tunnel --url http://localhost:5000 &\n",
    "!sleep 5\n",
    "!cat nohup.out\n",
    "!cd exui && python server.py --host 127.0.0.1:5000\n"
   ]
  }
 ],
 "metadata": {
  "language_info": {
   "name": "python"
  }
 },
 "nbformat": 4,
 "nbformat_minor": 2
}
